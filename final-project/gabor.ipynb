{
 "cells": [
  {
   "cell_type": "markdown",
   "metadata": {},
   "source": [
    "# Gabor Filters and Filter Banks\n",
    "\n",
    "Implement gabor filter analysis and classification. Delivering in article format and as a slide presentation. \n",
    "\n",
    "Sources:\n",
    "1. [Gabor Filters, Wikipedia](https://en.wikipedia.org/wiki/Gabor_filter)\n",
    "2. [https://www.sciencedirect.com/topics/engineering/gabor-filter](https://www.sciencedirect.com/topics/engineering/gabor-filter)\n",
    "3. [https://www.baeldung.com/cs/ml-gabor-filters](https://www.baeldung.com/cs/ml-gabor-filters)\n",
    "4. [58 - What are Gabor filters?](https://www.youtube.com/watch?v=QEz4bG9P3Qs)\n",
    "5. [https://inc.ucsd.edu/mplab/75/media//gabor.pdf](https://inc.ucsd.edu/mplab/75/media//gabor.pdf)\n",
    "6. [https://medium.com/@anuj_shah/through-the-eyes-of-gabor-filter-17d1fdb3ac97](https://medium.com/@anuj_shah/through-the-eyes-of-gabor-filter-17d1fdb3ac97)\n",
    "7. [Gabor filter banks for texture classification, scikit-image](https://scikit-image.org/docs/stable/auto_examples/features_detection/plot_gabor.html)\n",
    "8. [Gabor Filters, The University of Edinburgh](https://homepages.inf.ed.ac.uk/rbf/CVonline/LOCAL_COPIES/TRAPP1/filter.html)\n",
    "9. [Tutorial 74 - What are Gabor filters and how to use them to generate features for machine learning?](https://www.youtube.com/watch?v=yn1NUwaxhZg)"
   ]
  },
  {
   "cell_type": "code",
   "execution_count": null,
   "metadata": {},
   "outputs": [],
   "source": []
  }
 ],
 "metadata": {
  "language_info": {
   "name": "python"
  }
 },
 "nbformat": 4,
 "nbformat_minor": 2
}
